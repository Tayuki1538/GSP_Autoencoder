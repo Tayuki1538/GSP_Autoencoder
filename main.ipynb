{
 "cells": [
  {
   "cell_type": "code",
   "execution_count": 0,
   "metadata": {
    "application/vnd.databricks.v1+cell": {
     "cellMetadata": {
      "byteLimit": 2048000,
      "rowLimit": 10000
     },
     "inputWidgets": {},
     "nuid": "3d832101-2bb6-4e68-9874-5f52d33a0aee",
     "showTitle": false,
     "tableResultSettingsMap": {},
     "title": ""
    }
   },
   "outputs": [],
   "source": [
    "!pip install -r requirements.txt"
   ]
  },
  {
   "cell_type": "code",
   "execution_count": 0,
   "metadata": {
    "application/vnd.databricks.v1+cell": {
     "cellMetadata": {
      "byteLimit": 2048000,
      "rowLimit": 10000
     },
     "inputWidgets": {},
     "nuid": "8acab020-5f9a-46ae-8be8-b546d55d2809",
     "showTitle": false,
     "tableResultSettingsMap": {},
     "title": ""
    }
   },
   "outputs": [],
   "source": [
    "display(dbutils.fs.ls(\"/mnt\"))"
   ]
  },
  {
   "cell_type": "code",
   "execution_count": 0,
   "metadata": {
    "application/vnd.databricks.v1+cell": {
     "cellMetadata": {
      "byteLimit": 2048000,
      "rowLimit": 10000
     },
     "inputWidgets": {},
     "nuid": "6a481548-4388-4a2b-8cb4-7f4a29b059b8",
     "showTitle": false,
     "tableResultSettingsMap": {},
     "title": ""
    }
   },
   "outputs": [],
   "source": [
    "import wandb\n",
    "wandb.login(key=\"77f3f333dd787963c760095dd68d2daeac2870be\")"
   ]
  },
  {
   "cell_type": "code",
   "execution_count": 0,
   "metadata": {
    "application/vnd.databricks.v1+cell": {
     "cellMetadata": {
      "byteLimit": 2048000,
      "rowLimit": 10000
     },
     "inputWidgets": {},
     "nuid": "d97eb71f-1d3f-4366-a001-2197cbbdc7ba",
     "showTitle": false,
     "tableResultSettingsMap": {},
     "title": ""
    }
   },
   "outputs": [],
   "source": [
    "!python3 train.py -c config.json\n"
   ]
  },
  {
   "cell_type": "code",
   "execution_count": 0,
   "metadata": {
    "application/vnd.databricks.v1+cell": {
     "cellMetadata": {
      "byteLimit": 2048000,
      "rowLimit": 10000
     },
     "inputWidgets": {},
     "nuid": "21eea00b-655e-4e5b-9ae5-9a562ae3d072",
     "showTitle": false,
     "tableResultSettingsMap": {},
     "title": ""
    }
   },
   "outputs": [],
   "source": [
    "!python3 test.py -c config.json --resume /dbfs/mnt/mnt_wg3-1/mita/GSP_Autoencoder/model/peach-smoke-68/models/checkpoint-epoch800.pth"
   ]
  },
  {
   "cell_type": "code",
   "execution_count": 0,
   "metadata": {
    "application/vnd.databricks.v1+cell": {
     "cellMetadata": {
      "byteLimit": 2048000,
      "rowLimit": 10000
     },
     "inputWidgets": {},
     "nuid": "1a941025-0986-4255-9e7a-9bca3d4c2b80",
     "showTitle": false,
     "tableResultSettingsMap": {},
     "title": ""
    }
   },
   "outputs": [],
   "source": [
    "import numpy as np\n",
    "data_train = np.load(\"/dbfs/mnt/mnt_wg3-1/mita/simulation_data/train_random_100000_p.npz\")\n",
    "\n",
    "X_train = data_train[\"X\"]\n",
    "pos_train = data_train[\"pos\"]\n",
    "\n",
    "data_test = np.load(\"/dbfs/mnt/mnt_wg3-1/mita/simulation_data/test_1000_peak.npz\")\n",
    "\n",
    "X_test = data_test[\"X\"]\n",
    "pos_test = data_test[\"pos\"]\n",
    "\n",
    "corr_list = []\n",
    "pos_list = []\n",
    "for i in range(X_train.shape[0]):\n",
    "    corr_list.append(np.dot(X_train[i].squeeze(), X_test[0].squeeze())/(np.linalg.norm(X_train[i].squeeze())*np.linalg.norm(X_test[0].squeeze())))\n",
    "    pos_list.append(pos_train[i])\n",
    "\n",
    "print(\"corr_max: \", np.max(corr_list))\n",
    "print(\"pos_test: \", pos_test[0], \", pos_max: \", pos_list[np.argmax(corr_list)])\n"
   ]
  },
  {
   "cell_type": "markdown",
   "metadata": {
    "application/vnd.databricks.v1+cell": {
     "cellMetadata": {},
     "inputWidgets": {},
     "nuid": "de9318d0-dfbf-46c3-b49e-02e022fbd1b9",
     "showTitle": false,
     "tableResultSettingsMap": {},
     "title": ""
    }
   },
   "source": [
    "#### androidとiPhoneの違い"
   ]
  },
  {
   "cell_type": "code",
   "execution_count": 0,
   "metadata": {
    "application/vnd.databricks.v1+cell": {
     "cellMetadata": {
      "byteLimit": 2048000,
      "rowLimit": 10000
     },
     "inputWidgets": {},
     "nuid": "85582768-425d-4bc4-ad88-e919dee007b1",
     "showTitle": false,
     "tableResultSettingsMap": {},
     "title": ""
    }
   },
   "outputs": [],
   "source": [
    "import numpy as np\n",
    "data_android = np.load(\"/dbfs/mnt/mnt_wg3-1/mita/measurement_data/android_train.npz\")\n",
    "data_iPhone = np.load(\"/dbfs/mnt/mnt_wg3-1/mita/measurement_data/iPhone_train.npz\")\n",
    "\n",
    "X_android = data_android[\"X\"]\n",
    "X_iPhone = data_iPhone[\"X\"]\n",
    "\n",
    "corr_list = []\n",
    "for i in range(20):\n",
    "    corr_list_tmp = []\n",
    "    for j in range(20):\n",
    "        corr_list_tmp.append(np.dot(X_android[i*20+j].squeeze(), X_iPhone[i*20+j].squeeze())/(np.linalg.norm(X_android[i*20+j].squeeze())*np.linalg.norm(X_iPhone[i*20+j].squeeze())))\n",
    "    corr_list.append(np.max(corr_list_tmp))\n",
    "for i in range(len(corr_list)):\n",
    "    print(\"index: \", i, \"corr_max: \", np.max(corr_list[i]), \"corr_min: \", np.min(corr_list[i]))\n"
   ]
  },
  {
   "cell_type": "code",
   "execution_count": 0,
   "metadata": {
    "application/vnd.databricks.v1+cell": {
     "cellMetadata": {
      "byteLimit": 2048000,
      "rowLimit": 10000
     },
     "inputWidgets": {},
     "nuid": "6fb0f533-aeb9-4dc6-b2e5-b6ae169a6162",
     "showTitle": false,
     "tableResultSettingsMap": {},
     "title": ""
    }
   },
   "outputs": [],
   "source": [
    "import matplotlib.pyplot as plt\n",
    "plt.plot(X_android[0].squeeze()/np.linalg.norm(X_android[0].squeeze()))\n",
    "plt.plot(X_iPhone[0].squeeze()/np.linalg.norm(X_iPhone[0].squeeze()))\n",
    "plt.show()\n"
   ]
  },
  {
   "cell_type": "code",
   "execution_count": 0,
   "metadata": {
    "application/vnd.databricks.v1+cell": {
     "cellMetadata": {
      "byteLimit": 2048000,
      "rowLimit": 10000
     },
     "inputWidgets": {},
     "nuid": "60acaf2c-c08d-4540-aba0-8aa18266ac29",
     "showTitle": false,
     "tableResultSettingsMap": {},
     "title": ""
    }
   },
   "outputs": [],
   "source": [
    "import numpy as np\n",
    "data_android = np.load(\"/dbfs/mnt/mnt_wg3-1/mita/measurement_data/android_train_peak.npz\")\n",
    "data_iPhone = np.load(\"/dbfs/mnt/mnt_wg3-1/mita/measurement_data/iPhone_train_peak.npz\")\n",
    "\n",
    "X_android = data_android[\"X\"]\n",
    "X_iPhone = data_iPhone[\"X\"]\n",
    "\n",
    "corr_list = []\n",
    "for i in range(20):\n",
    "    corr_list_tmp = []\n",
    "    for j in range(20):\n",
    "        corr_list_tmp.append(np.dot(X_android[i*20+j].squeeze(), X_iPhone[i*20+j].squeeze())/(np.linalg.norm(X_android[i*20+j].squeeze())*np.linalg.norm(X_iPhone[i*20+j].squeeze())))\n",
    "    corr_list.append(np.max(corr_list_tmp))\n",
    "for i in range(len(corr_list)):\n",
    "    print(\"index: \", i, \"corr_max: \", np.max(corr_list[i]), \"corr_min: \", np.min(corr_list[i]))"
   ]
  },
  {
   "cell_type": "code",
   "execution_count": 0,
   "metadata": {
    "application/vnd.databricks.v1+cell": {
     "cellMetadata": {
      "byteLimit": 2048000,
      "rowLimit": 10000
     },
     "inputWidgets": {},
     "nuid": "9fe2544d-b583-475c-8b76-3a65cc8a9a27",
     "showTitle": false,
     "tableResultSettingsMap": {},
     "title": ""
    }
   },
   "outputs": [],
   "source": [
    "import matplotlib.pyplot as plt\n",
    "fig, ax = plt.subplots(2, 1)\n",
    "ax[0].plot(X_android[0].squeeze())\n",
    "ax[1].plot(X_iPhone[0].squeeze())\n",
    "plt.show()"
   ]
  },
  {
   "cell_type": "code",
   "execution_count": 0,
   "metadata": {
    "application/vnd.databricks.v1+cell": {
     "cellMetadata": {
      "byteLimit": 2048000,
      "rowLimit": 10000
     },
     "inputWidgets": {},
     "nuid": "0e7644d0-cdfc-4bce-adda-c9bd1eaa8868",
     "showTitle": false,
     "tableResultSettingsMap": {},
     "title": ""
    }
   },
   "outputs": [],
   "source": [
    "import numpy as np\n",
    "data_android = np.load(\"/dbfs/mnt/mnt_wg3-1/mita/simulation_data/test_1000_peak.npz\")\n",
    "data_iPhone = np.load(\"/dbfs/mnt/mnt_wg3-1/mita/simulation_data/train_random_100000_p.npz\")\n",
    "\n",
    "X_android = data_android[\"X\"]\n",
    "X_iPhone = data_iPhone[\"X\"]\n",
    "pos_iPhone = data_iPhone[\"pos\"]\n",
    "\n",
    "corr_list = []\n",
    "for j in range(len(X_iPhone)):\n",
    "    corr_list.append(np.dot(X_android[0].squeeze(), X_iPhone[j].squeeze())/(np.linalg.norm(X_android[0].squeeze())*np.linalg.norm(X_iPhone[j].squeeze())))\n",
    "\n",
    "print(\"corr_max: \", np.max(corr_list))\n",
    "print(\"pos_test: \", pos_iPhone[np.argmax(corr_list)])"
   ]
  },
  {
   "cell_type": "code",
   "execution_count": 0,
   "metadata": {
    "application/vnd.databricks.v1+cell": {
     "cellMetadata": {
      "byteLimit": 2048000,
      "rowLimit": 10000
     },
     "inputWidgets": {},
     "nuid": "fb706db8-0cf1-4628-b357-ad9c076d3154",
     "showTitle": false,
     "tableResultSettingsMap": {},
     "title": ""
    }
   },
   "outputs": [],
   "source": [
    "import matplotlib.pyplot as plt\n",
    "plt.plot(X_android[0].squeeze())\n",
    "plt.plot(X_iPhone[np.argmax(corr_list)].squeeze())\n",
    "plt.show()"
   ]
  },
  {
   "cell_type": "code",
   "execution_count": 0,
   "metadata": {
    "application/vnd.databricks.v1+cell": {
     "cellMetadata": {},
     "inputWidgets": {},
     "nuid": "29c6642b-89c6-4ed7-a1a5-bf52121ef63c",
     "showTitle": false,
     "tableResultSettingsMap": {},
     "title": ""
    }
   },
   "outputs": [],
   "source": []
  }
 ],
 "metadata": {
  "application/vnd.databricks.v1+notebook": {
   "computePreferences": null,
   "dashboards": [],
   "environmentMetadata": {
    "base_environment": "",
    "environment_version": "2"
   },
   "inputWidgetPreferences": null,
   "language": "python",
   "notebookMetadata": {
    "pythonIndentUnit": 4
   },
   "notebookName": "main",
   "widgets": {}
  },
  "language_info": {
   "name": "python"
  }
 },
 "nbformat": 4,
 "nbformat_minor": 0
}
